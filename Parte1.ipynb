{
  "nbformat": 4,
  "nbformat_minor": 0,
  "metadata": {
    "colab": {
      "name": "Parte1.ipynb",
      "provenance": [],
      "collapsed_sections": [],
      "authorship_tag": "ABX9TyO401H2Omcyr2uftZkuxdPd",
      "include_colab_link": true
    },
    "kernelspec": {
      "name": "python3",
      "display_name": "Python 3"
    },
    "language_info": {
      "name": "python"
    }
  },
  "cells": [
    {
      "cell_type": "markdown",
      "metadata": {
        "id": "view-in-github",
        "colab_type": "text"
      },
      "source": [
        "<a href=\"https://colab.research.google.com/github/fefranco97/Compiladores/blob/main/Parte1.ipynb\" target=\"_parent\"><img src=\"https://colab.research.google.com/assets/colab-badge.svg\" alt=\"Open In Colab\"/></a>"
      ]
    },
    {
      "cell_type": "markdown",
      "metadata": {
        "id": "sFs06_M7ol46"
      },
      "source": [
        "**Projeto de compiladoes**\n",
        "**Alunos**\n",
        "* Felipe Franco de Camargo      TIA:41541014\n",
        "* Willian Testsuya Takashi      TIA:41538579"
      ]
    },
    {
      "cell_type": "markdown",
      "metadata": {
        "id": "ZXwLSKd1R2CX"
      },
      "source": [
        "**Gramatica implementada**\n",
        "* https://graduacao.mackenzie.br/pluginfile.php/508915/mod_resource/content/1/MINIPASCAL.pdf\n",
        "\n",
        " \n"
      ]
    },
    {
      "cell_type": "code",
      "metadata": {
        "colab": {
          "base_uri": "https://localhost:8080/"
        },
        "id": "z4oK2l2GoOm1",
        "outputId": "c07a449b-ca70-4721-88bb-c662c000bd43"
      },
      "source": [
        "!pip install rply"
      ],
      "execution_count": 4,
      "outputs": [
        {
          "output_type": "stream",
          "text": [
            "Requirement already satisfied: rply in /usr/local/lib/python3.7/dist-packages (0.7.8)\n",
            "Requirement already satisfied: appdirs in /usr/local/lib/python3.7/dist-packages (from rply) (1.4.4)\n"
          ],
          "name": "stdout"
        }
      ]
    },
    {
      "cell_type": "markdown",
      "metadata": {
        "id": "JRnDepCQSAZj"
      },
      "source": [
        "##Analisador Lexico\n"
      ]
    },
    {
      "cell_type": "code",
      "metadata": {
        "id": "EZ43O83TMQJJ"
      },
      "source": [
        "from rply import LexerGenerator\n",
        "\n",
        "lg = LexerGenerator()\n",
        "\n",
        "#<program> ::= program <identifier> ; <block> .\n",
        "lg.add('PROGRAM', r'program')\n",
        "lg.add('DOT', r'\\.')\n",
        "\n",
        "#<variable declaration part> ::= <empty> | var <variable declaration> ; { <variable declaration> ; }\n",
        "lg.add('VAR',r'var')\n",
        "lg.add('SEMICOLON', r'\\;')\n",
        "\n",
        "#<simple type> ::= char | integer | boolean\n",
        "lg.add('INTEGER', r'integer')\n",
        "lg.add('CHAR', r'char')\n",
        "lg.add('BOOLEAN', r'boolean')\n",
        "#<array type> ::= array [ <index range> ] of <simple type>\n",
        "lg.add('OF',r'of')\n",
        "\n",
        "#<subroutine declaration part> ::= < procedure declaration | function declaration >\n",
        "#<procedure declaration> ::= procedure < identifier > < formal parameters > ; <block>\n",
        "#<function declaration> ::= function < identifier > < formal parameters > : < type >; < block >\n",
        "lg.add('PROCEDURE',r'procedure')\n",
        "lg.add('FUNCTION',r'function')\n",
        "lg.add('COLON',r'\\:')\n",
        "\n",
        "#<formal parameters> ::= (< param section > )\n",
        "lg.add('OPEN_PAR', r'\\(')\n",
        "lg.add('CLOSE_PAR', r'\\)')\n",
        "\n",
        "#<compound statement> ::= begin <statement>{ ; <statement> } end\n",
        "lg.add('BEGIN',r'begin')\n",
        "lg.add('END',r'end')\n",
        "\n",
        "#<read statement> ::= read ( <variable> { , <variable> } )\n",
        "lg.add('READ',r'read')\n",
        "#<write statement> ::= write ( <variable> { , <variable> } )\n",
        "lg.add('WRITE',r'write')\n",
        "\n",
        "#<if statement> ::= if <expression> then <statement> | if <expression> then <statement> else <statement>\n",
        "lg.add('IF', r'if')\n",
        "lg.add('THEN',r'then')\n",
        "lg.add('ELSE',r'else')\n",
        "\n",
        "#<while statement> ::= while <expression> do <statement>\n",
        "lg.add('WHILE', r'while')\n",
        "lg.add('DO',r'do')\n",
        "\n",
        "#<factor> ::= <variable> | <constant> | ( <expression> ) | not <factor>\n",
        "lg.add('NOT',r'not')\n",
        "\n",
        "#<relational operator> ::= = | <> | < | <= | >= | > | or | and\n",
        "lg.add('EQUALS', r'=')\n",
        "lg.add('DIFF', r'\\<\\>')\n",
        "lg.add('GREATTHAN', r'\\>=')\n",
        "lg.add('LOWERTHAN', r'\\<=')\n",
        "lg.add('COMPMAIOR', r'\\>')\n",
        "lg.add('COMPMENOR', r'\\<')\n",
        "\n",
        "\n",
        "lg.add('AND',r'and')\n",
        "lg.add('OR',r'or')\n",
        "\n",
        "#<sign> ::= + | - | <empty>\n",
        "lg.add('PLUS', r'\\+')\n",
        "lg.add('MINUS', r'-')\n",
        "#<multiplying operator> ::= * | div\n",
        "lg.add('MUL', r'\\*')\n",
        "lg.add('DIV', r'div')\n",
        "\n",
        "#<indexed variable> ::= <array variable> [ <expression> ]\n",
        "lg.add('OPEN_COL', r'\\[')\n",
        "lg.add('CLOSE_COL', r'\\]')\n",
        "lg.add('COMMA', r'\\,')\n",
        "\n",
        "lg.add('TRUE',r'true')\n",
        "lg.add('FALSE',r'false')\n",
        "\n",
        "#lg.add('ARRAY', r'array\\[\\d+\\]')\n",
        "lg.add('ARRAY', r'array') \n",
        "#<identifier> ::= <letter> { <letter or digit> }\n",
        "lg.add('IDENTIFIER', r'[a-zA-Z][a-zA-Z0-9]*')\n",
        "lg.add('NUMBER', r'[+-]?\\d+')\n",
        "\n",
        "\n",
        "#Ignora os Espaços em branco\n",
        "lg.ignore('\\s+')\n",
        "\n",
        "lexer = lg.build()"
      ],
      "execution_count": 93,
      "outputs": []
    },
    {
      "cell_type": "markdown",
      "metadata": {
        "id": "MAH3Dy3SSEGw"
      },
      "source": [
        "##Analisador Sintático"
      ]
    },
    {
      "cell_type": "code",
      "metadata": {
        "id": "A42tKi6dMQp6",
        "colab": {
          "base_uri": "https://localhost:8080/",
          "height": 129
        },
        "outputId": "f18936c4-d0da-4f5d-f14c-66fbb4991233"
      },
      "source": [
        "from rply.token import BaseBox\n",
        "\n",
        "class Number(BaseBox):\n",
        "    def __init__(self, value):\n",
        "        self.value = value\n",
        "\n",
        "    def eval(self):\n",
        "        return self.value\n",
        "\n",
        "class BinaryOp(BaseBox):\n",
        "    def __init__(self, left, right):\n",
        "        self.left = left\n",
        "        self.right = right\n",
        "    def print(self):\n",
        "        return print(\"Valor Left: \", self.left.eval(), \"\\nValor Right:  \", self.right.eval())\n",
        "\n",
        "class Add(BinaryOp):\n",
        "    def eval(self):\n",
        "        return self.left.eval() + self.right.eval()\n",
        "    def print(self):\n",
        "        return print(\"Valor Inicial: \", self.left.eval(), \"\\nValor que irá ser somado: \", self.right.eval(), \"\\nValor após soma: \", self.left.eval() + self.right.eval())       \n",
        "\n",
        "class Sub(BinaryOp):\n",
        "    def eval(self):\n",
        "        return self.left.eval() - self.right.eval()\n",
        "    def print(self):\n",
        "        return print(\"Valor Inicial: \", self.left.eval(), \"\\nValor que irá ser subtraido:  \", self.right.eval(),\"\\nValor após subtração: \", self.left.eval() - self.right.eval())\n",
        "\n",
        "class Mul(BinaryOp):\n",
        "    def eval(self):\n",
        "        return self.left.eval() * self.right.eval()\n",
        "    def print(self):\n",
        "        return print(\"Valor Inicial: \", self.left.eval(),\"\\nValor multiplicador:  \", self.right.eval(),\"\\nValor após multiplicação: \", self.left.eval() * self.right.eval())\n",
        "\n",
        "class Div(BinaryOp):\n",
        "    def eval(self):\n",
        "        return self.left.eval() / self.right.eval()\n",
        "    def print(self):\n",
        "        return print(\"Valor Inicial: \", self.left.eval(),\"\\nValor divisor:  \", self.right.eval(), \"\\nValor após divisão: \", self.left.eval() / self.right.eval())\n",
        "\n",
        "class CompEqual(BinaryOp):\n",
        "    def eval(self):\n",
        "        return self.left.eval() == self.right.eval()\n",
        "\n",
        "class CompMenor(BinaryOp):\n",
        "    def eval(self):\n",
        "        return self.left.eval() < self.right.eval()\n",
        "\n",
        "class CompMaior(BinaryOp):\n",
        "    def eval(self):\n",
        "        return self.left.eval() > self.right.eval()\n",
        "\n",
        "class CompEqMaior(BinaryOp):\n",
        "  def eval(self):\n",
        "    return self.left.eval() >= self.right.eval()\n",
        "\n",
        "class CompEqMenor(BinaryOp):\n",
        "  def eval(self):\n",
        "    return self.left.eval() <= self.right.eval()\n",
        "\n",
        "class CompAnd(BinaryOp):\n",
        "  def eval(self):\n",
        "    return self.left.eval() and self.right.eval()\n",
        "\n",
        "class CompOr(BinaryOp):\n",
        "  def eval(self):\n",
        "    return self.left.eval() or self.right.eval()\n",
        "\n",
        "class NotEqual(BinaryOp):\n",
        "  def eval(self):\n",
        "    return self.left.eval() != self.right.eval()\n",
        "\n",
        "class NotFunc(BinaryOp):\n",
        "  def eval(self):\n",
        "    return self.left.eval() not self.right.eval()"
      ],
      "execution_count": 234,
      "outputs": [
        {
          "output_type": "error",
          "ename": "SyntaxError",
          "evalue": "ignored",
          "traceback": [
            "\u001b[0;36m  File \u001b[0;32m\"<ipython-input-234-9da4200c1a1f>\"\u001b[0;36m, line \u001b[0;32m75\u001b[0m\n\u001b[0;31m    return self.left.eval() not self.right.eval()\u001b[0m\n\u001b[0m                                   ^\u001b[0m\n\u001b[0;31mSyntaxError\u001b[0m\u001b[0;31m:\u001b[0m invalid syntax\n"
          ]
        }
      ]
    },
    {
      "cell_type": "code",
      "metadata": {
        "id": "OkROGT1xm6v5"
      },
      "source": [
        "from rply.token import BaseBox\n",
        "class Attrib(BaseBox):\n",
        "    def __init__(self, id, expression):\n",
        "        self.id = id\n",
        "        self.expression = expression\n",
        "\n",
        "class Var(BaseBox):\n",
        "    def __init__(self, id,typeVar):\n",
        "      self.id = id\n",
        "      self.typeVar = typeVar\n",
        "\n",
        "    def getId(self):\n",
        "      return self.id\n",
        "\n",
        "    def getType(self):\n",
        "      return self.typeVar\n",
        "\n",
        "    def print(self):\n",
        "        return print(\"Nome da variavel: \", self.id, \"\\nTipo da variavel: \", self.typeVar.eval())\n",
        "\n",
        "class TypeVar(BaseBox):\n",
        "    def __init__(self,typeVar):\n",
        "      self.typeVar = typeVar\n",
        "    def eval(self):\n",
        "      return self.typeVar\n"
      ],
      "execution_count": 231,
      "outputs": []
    },
    {
      "cell_type": "code",
      "metadata": {
        "colab": {
          "base_uri": "https://localhost:8080/"
        },
        "id": "smGwTDKZmIKI",
        "outputId": "934ddf0f-ab42-4a30-9cb6-af4fff5dd93b"
      },
      "source": [
        "from rply import ParserGenerator\n",
        "\n",
        "pg = ParserGenerator(\n",
        "    ['NUMBER', 'OPEN_PAR', 'CLOSE_PAR','PLUS', 'MINUS', 'MUL', 'DIV','EQUALS',\n",
        "     'PROGRAM','DOT','VAR','SEMICOLON','INTEGER','CHAR','BOOLEAN','ARRAY',\n",
        "     'OF','IDENTIFIER','PROCEDURE','FUNCTION','COLON','BEGIN','END',\n",
        "     'READ','WRITE','IF','THEN','ELSE','WHILE','DO','GREATTHAN',\n",
        "     'LOWERTHAN','COMPMAIOR','COMPMENOR','AND','OR','OPEN_COL',\n",
        "     'CLOSE_COL','COMMA','DIFF'\n",
        "    ],\n",
        "    precedence=[\n",
        "        ('left', ['AND', 'OR']),\n",
        "        ('left', ['EQUALS']),\n",
        "        ('left', ['DIFF']),     \n",
        "        ('left', ['LOWERTHAN','COMPMENOR','COMPMAIOR','GREATTHAN']),\n",
        "        ('left', ['PLUS', 'MINUS']),\n",
        "        ('left', ['MUL', 'DIV'])\n",
        "        \n",
        "    ]\n",
        ")\n",
        "\n",
        "\n",
        "@pg.production('program : PROGRAM IDENTIFIER SEMICOLON block DOT')\n",
        "def prog(p):\n",
        "  return p[3]\n",
        "\n",
        "@pg.production('block : var')\n",
        "@pg.production('block : subroutine')\n",
        "@pg.production('block : statementpart')\n",
        "def block(p):\n",
        "  return p[0]\n",
        "\n",
        "@pg.production('subroutine : procedure')\n",
        "@pg.production('subroutine : function')\n",
        "def subroutine(p):\n",
        "  return p[0]\n",
        "\n",
        "@pg.production('procedure : PROCEDURE IDENTIFIER var COLON type SEMICOLON block')\n",
        "def procedure(p):\n",
        "  return p[6]\n",
        "\n",
        "@pg.production('function : FUNCTION IDENTIFIER var COLON type SEMICOLON block')\n",
        "def function(p):\n",
        "  return p[6]\n",
        "\n",
        "@pg.production('statementpart : compound')\n",
        "def statement_part(p):\n",
        "  return p[0]\n",
        "\n",
        "@pg.production('compound : BEGIN statement SEMICOLON END')\n",
        "def compound(p):\n",
        "  return p[1]\n",
        "\n",
        "@pg.production('statement : simple ')\n",
        "@pg.production('statement : structured')\n",
        "def statement(p):\n",
        "  return p[0]\n",
        "\n",
        "@pg.production('simple : assignment')\n",
        "@pg.production('simple : funcprocedure')\n",
        "@pg.production('simple : read')\n",
        "@pg.production('simple : write')\n",
        "def simple(p):\n",
        "  return p[0]\n",
        "\n",
        "@pg.production('assignment : variable EQUALS expression')\n",
        "def attrib(p):\n",
        "  return Attrib(p[0].getstr(),p[2])\n",
        "\n",
        "@pg.production('funcprocedure : IDENTIFIER ')\n",
        "def func_procedure(p):\n",
        "  return p[0]\n",
        "\n",
        "@pg.production('read : READ OPEN_PAR variable COMMA variable CLOSE_PAR')\n",
        "def read(p):\n",
        "  return p[0]\n",
        "\n",
        "@pg.production('write : WRITE OPEN_PAR variable COMMA variable CLOSE_PAR')\n",
        "def write(p):\n",
        "  return p[0]\n",
        "\n",
        "@pg.production('structured : compound')\n",
        "@pg.production('structured : ifstat')\n",
        "@pg.production('structured : whilestat')\n",
        "def structured(p):\n",
        "  return p[0]\n",
        "\n",
        "@pg.production('ifstat : IF expression THEN statement')\n",
        "def if_statement(p):\n",
        "  return p[3]\n",
        "@pg.production('ifstat : IF expression THEN statement ELSE statement')\n",
        "def if_else_statement(p):\n",
        "  return p[5]\n",
        "\n",
        "@pg.production('whilestat : WHILE expression DO statement')\n",
        "def while_statement(p):\n",
        "  return p[3]\n",
        "\n",
        "##<variable declaration part> ::= <empty> | var <variable declaration> ; { <variable declaration> ; }\n",
        "@pg.production('variable : var')\n",
        "def variable(p):\n",
        "  return p[0].getId()\n",
        "@pg.production('var : VAR IDENTIFIER COLON type SEMICOLON var')\n",
        "@pg.production('var : IDENTIFIER COLON type SEMICOLON')\n",
        "def type_var(p):\n",
        "    if p[0].gettokentype() == 'VAR':\n",
        "       return Var(p[1].getstr(),p[3])\n",
        "    else:\n",
        "      return Var(p[0].getstr(),p[2])\n",
        "\n",
        "#Simple type\n",
        "@pg.production('type : CHAR')\n",
        "@pg.production('type : INTEGER')\n",
        "@pg.production('type : BOOLEAN')\n",
        "@pg.production('type : ARRAY OPEN_COL range CLOSE_COL OF type ')\n",
        "def var_type(p):\n",
        "  if p[0].gettokentype() == 'CHAR':\n",
        "    return TypeVar(p[0].getstr())   \n",
        "  elif p[0].gettokentype() == 'INTEGER':\n",
        "    return TypeVar(p[0].getstr())\n",
        "  elif p[0].gettokentype() == 'BOOLEAN':\n",
        "    return TypeVar(p[0].getstr())\n",
        "  elif p[0].gettokentype() == 'ARRAY':\n",
        "    return TypeVar(p[0].getstr())\n",
        "   \n",
        "@pg.production('range : NUMBER')\n",
        "def range_number(p):\n",
        "    return Number(int(p[0].getstr()))\n",
        "\n",
        "@pg.production('expression : NUMBER')\n",
        "def expression_number(p):\n",
        "    return Number(int(p[0].getstr()))\n",
        "\n",
        "@pg.production('expression : variable')\n",
        "def expression_number(p):\n",
        "    return Number(int(p[0].getstr()))\n",
        "\n",
        "@pg.production('expression : OPEN_PAR expression CLOSE_PAR')\n",
        "@pg.production('expression : OPEN_COL expression CLOSE_COL')\n",
        "def expression_parens(p):\n",
        "    return p[1]\n",
        "\n",
        "@pg.production('expression : expression PLUS expression')\n",
        "@pg.production('expression : expression MINUS expression')\n",
        "@pg.production('expression : expression MUL expression')\n",
        "@pg.production('expression : expression DIV expression')\n",
        "@pg.production('expression : expression EQUALS expression')\n",
        "@pg.production('expression : expression COMPMAIOR expression')\n",
        "@pg.production('expression : expression COMPMENOR expression')\n",
        "@pg.production('expression : expression GREATTHAN expression')\n",
        "@pg.production('expression : expression LOWERTHAN expression')\n",
        "@pg.production('expression : expression AND expression')\n",
        "@pg.production('expression : expression OR expression')\n",
        "@pg.production('expression : expression DIFF expression')\n",
        "def expression_binop(p):\n",
        "    left = p[0]\n",
        "    right = p[2]\n",
        "    if p[1].gettokentype() == 'PLUS':\n",
        "        return Add(left, right)\n",
        "    elif p[1].gettokentype() == 'MINUS':\n",
        "        return Sub(left, right)\n",
        "    elif p[1].gettokentype() == 'MUL':\n",
        "        return Mul(left, right)\n",
        "    elif p[1].gettokentype() == 'DIV':\n",
        "        return Div(left, right)\n",
        "    elif p[1].gettokentype() == 'EQUALS':\n",
        "        return CompEqual(left, right)\n",
        "    elif p[1].gettokentype() == 'COMPMAIOR':\n",
        "        return CompMaior(left, right)\n",
        "    elif p[1].gettokentype() == 'COMPMENOR':\n",
        "        return CompMenor(left, right)\n",
        "    elif p[1].gettokentype() == 'GREATTHAN':\n",
        "        return CompEqMaior(left, right)\n",
        "    elif p[1].gettokentype() == 'LOWERTHAN':\n",
        "        return CompEqMenor(left, right)\n",
        "    elif p[1].gettokentype() == 'AND':\n",
        "        return CompAnd(left, right)\n",
        "    elif p[1].gettokentype() == 'OR':\n",
        "        return CompOr(left, right)\n",
        "    elif p[1].gettokentype() == 'DIFF':\n",
        "        return NotEqual(left, right)\n",
        "\n",
        "    else:\n",
        "        raise AssertionError('Oops, this should not be possible!')\n",
        "\n",
        "parser = pg.build()"
      ],
      "execution_count": 236,
      "outputs": [
        {
          "output_type": "stream",
          "text": [
            "/usr/local/lib/python3.7/dist-packages/ipykernel_launcher.py:186: ParserGeneratorWarning: 1 shift/reduce conflict\n"
          ],
          "name": "stderr"
        }
      ]
    },
    {
      "cell_type": "markdown",
      "metadata": {
        "id": "XlGihlwTmKAd"
      },
      "source": [
        "#Testes"
      ]
    },
    {
      "cell_type": "markdown",
      "metadata": {
        "id": "WlOyhc2Ad5of"
      },
      "source": [
        "**Teste Analisador Léxico**"
      ]
    },
    {
      "cell_type": "markdown",
      "metadata": {
        "id": "OMl7Ktul7u-R"
      },
      "source": [
        "Exemplo de programa:\n",
        "\n",
        "      |program teste;\n",
        "            |var teste : char;\n",
        "                |teste2: integer;\n",
        "                |teste3: char;\n",
        "                |teste4: boolean;\n",
        "                |vetor : array[10] of integer;\n"
      ]
    },
    {
      "cell_type": "code",
      "metadata": {
        "id": "SKpWWb1h_tQw"
      },
      "source": [
        "for token in lexer.lex('program teste; var teste:char; teste2:boolean; teste3:char; vetor: array[10] of integer;'):\n",
        "  print(token) "
      ],
      "execution_count": null,
      "outputs": []
    },
    {
      "cell_type": "code",
      "metadata": {
        "id": "e465yHRirhiD"
      },
      "source": [
        "for token in lexer.lex('teste : integer; teste2 : char;'):\n",
        "  print(token) "
      ],
      "execution_count": null,
      "outputs": []
    },
    {
      "cell_type": "code",
      "metadata": {
        "colab": {
          "base_uri": "https://localhost:8080/",
          "height": 299
        },
        "id": "xevoHyjhrCIf",
        "outputId": "c9b10e06-374d-42bd-f23e-2184b9c0bf9c"
      },
      "source": [
        "arvore=parser.parse(lexer.lex('var teste : integer;'))\n",
        "print(arvore.print())\n"
      ],
      "execution_count": 238,
      "outputs": [
        {
          "output_type": "error",
          "ename": "ParsingError",
          "evalue": "ignored",
          "traceback": [
            "\u001b[0;31m---------------------------------------------------------------------------\u001b[0m",
            "\u001b[0;31mParsingError\u001b[0m                              Traceback (most recent call last)",
            "\u001b[0;32m<ipython-input-238-0b027368773e>\u001b[0m in \u001b[0;36m<module>\u001b[0;34m()\u001b[0m\n\u001b[0;32m----> 1\u001b[0;31m \u001b[0marvore\u001b[0m\u001b[0;34m=\u001b[0m\u001b[0mparser\u001b[0m\u001b[0;34m.\u001b[0m\u001b[0mparse\u001b[0m\u001b[0;34m(\u001b[0m\u001b[0mlexer\u001b[0m\u001b[0;34m.\u001b[0m\u001b[0mlex\u001b[0m\u001b[0;34m(\u001b[0m\u001b[0;34m'var teste : integer;'\u001b[0m\u001b[0;34m)\u001b[0m\u001b[0;34m)\u001b[0m\u001b[0;34m\u001b[0m\u001b[0;34m\u001b[0m\u001b[0m\n\u001b[0m\u001b[1;32m      2\u001b[0m \u001b[0mprint\u001b[0m\u001b[0;34m(\u001b[0m\u001b[0marvore\u001b[0m\u001b[0;34m.\u001b[0m\u001b[0mprint\u001b[0m\u001b[0;34m(\u001b[0m\u001b[0;34m)\u001b[0m\u001b[0;34m)\u001b[0m\u001b[0;34m\u001b[0m\u001b[0;34m\u001b[0m\u001b[0m\n",
            "\u001b[0;32m/usr/local/lib/python3.7/dist-packages/rply/parser.py\u001b[0m in \u001b[0;36mparse\u001b[0;34m(self, tokenizer, state)\u001b[0m\n\u001b[1;32m     63\u001b[0m                     \u001b[0;32mraise\u001b[0m \u001b[0mAssertionError\u001b[0m\u001b[0;34m(\u001b[0m\u001b[0;34m\"For now, error_handler must raise.\"\u001b[0m\u001b[0;34m)\u001b[0m\u001b[0;34m\u001b[0m\u001b[0;34m\u001b[0m\u001b[0m\n\u001b[1;32m     64\u001b[0m                 \u001b[0;32melse\u001b[0m\u001b[0;34m:\u001b[0m\u001b[0;34m\u001b[0m\u001b[0;34m\u001b[0m\u001b[0m\n\u001b[0;32m---> 65\u001b[0;31m                     \u001b[0;32mraise\u001b[0m \u001b[0mParsingError\u001b[0m\u001b[0;34m(\u001b[0m\u001b[0;32mNone\u001b[0m\u001b[0;34m,\u001b[0m \u001b[0mlookahead\u001b[0m\u001b[0;34m.\u001b[0m\u001b[0mgetsourcepos\u001b[0m\u001b[0;34m(\u001b[0m\u001b[0;34m)\u001b[0m\u001b[0;34m)\u001b[0m\u001b[0;34m\u001b[0m\u001b[0;34m\u001b[0m\u001b[0m\n\u001b[0m\u001b[1;32m     66\u001b[0m \u001b[0;34m\u001b[0m\u001b[0m\n\u001b[1;32m     67\u001b[0m     \u001b[0;32mdef\u001b[0m \u001b[0m_reduce_production\u001b[0m\u001b[0;34m(\u001b[0m\u001b[0mself\u001b[0m\u001b[0;34m,\u001b[0m \u001b[0mt\u001b[0m\u001b[0;34m,\u001b[0m \u001b[0msymstack\u001b[0m\u001b[0;34m,\u001b[0m \u001b[0mstatestack\u001b[0m\u001b[0;34m,\u001b[0m \u001b[0mstate\u001b[0m\u001b[0;34m)\u001b[0m\u001b[0;34m:\u001b[0m\u001b[0;34m\u001b[0m\u001b[0;34m\u001b[0m\u001b[0m\n",
            "\u001b[0;31mParsingError\u001b[0m: (None, SourcePosition(idx=0, lineno=1, colno=1))"
          ]
        }
      ]
    },
    {
      "cell_type": "code",
      "metadata": {
        "id": "aENN5b4PeKcg"
      },
      "source": [
        ""
      ],
      "execution_count": null,
      "outputs": []
    },
    {
      "cell_type": "markdown",
      "metadata": {
        "id": "AVy8l-vVOv_L"
      },
      "source": [
        "**Celula com erro --> Como corrigir?**"
      ]
    },
    {
      "cell_type": "code",
      "metadata": {
        "id": "K4k4_xxUOpUT"
      },
      "source": [
        "arvore=parser.parse(lexer.lex('var teste : integer; teste2 : char; teste3: boolean'))\n",
        "print(arvore.print())\n"
      ],
      "execution_count": null,
      "outputs": []
    }
  ]
}