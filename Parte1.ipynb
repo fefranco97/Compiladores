{
  "nbformat": 4,
  "nbformat_minor": 0,
  "metadata": {
    "colab": {
      "name": "Untitled0.ipynb",
      "provenance": [],
      "authorship_tag": "ABX9TyPUYsm76p7wgIrISKZDXGsy",
      "include_colab_link": true
    },
    "kernelspec": {
      "name": "python3",
      "display_name": "Python 3"
    },
    "language_info": {
      "name": "python"
    }
  },
  "cells": [
    {
      "cell_type": "markdown",
      "metadata": {
        "id": "view-in-github",
        "colab_type": "text"
      },
      "source": [
        "<a href=\"https://colab.research.google.com/github/fefranco97/Compiladores/blob/main/Parte1.ipynb\" target=\"_parent\"><img src=\"https://colab.research.google.com/assets/colab-badge.svg\" alt=\"Open In Colab\"/></a>"
      ]
    },
    {
      "cell_type": "markdown",
      "metadata": {
        "id": "sFs06_M7ol46"
      },
      "source": [
        "**Projeto de compiladoes**\n",
        "**Alunos**\n",
        "* Felipe Franco de Camargo      TIA:41541014\n",
        "* Willian Testsuya Takashi      TIA:41538579"
      ]
    },
    {
      "cell_type": "markdown",
      "metadata": {
        "id": "ZXwLSKd1R2CX"
      },
      "source": [
        "**Gramatica implementada**\n",
        "* https://graduacao.mackenzie.br/pluginfile.php/508915/mod_resource/content/1/MINIPASCAL.pdf"
      ]
    },
    {
      "cell_type": "code",
      "metadata": {
        "colab": {
          "base_uri": "https://localhost:8080/"
        },
        "id": "z4oK2l2GoOm1",
        "outputId": "0e52cb23-4f1c-42b2-ae99-f435c29f6237"
      },
      "source": [
        "!pip install rply"
      ],
      "execution_count": null,
      "outputs": [
        {
          "output_type": "stream",
          "text": [
            "Requirement already satisfied: rply in /usr/local/lib/python3.7/dist-packages (0.7.8)\n",
            "Requirement already satisfied: appdirs in /usr/local/lib/python3.7/dist-packages (from rply) (1.4.4)\n"
          ],
          "name": "stdout"
        }
      ]
    },
    {
      "cell_type": "markdown",
      "metadata": {
        "id": "JRnDepCQSAZj"
      },
      "source": [
        "##Analisador Lexico\n"
      ]
    },
    {
      "cell_type": "code",
      "metadata": {
        "id": "EZ43O83TMQJJ"
      },
      "source": [
        "from rply import LexerGenerator\n",
        "\n",
        "lg = LexerGenerator()\n",
        "\n",
        "lg.add('INT', r'int')\n",
        "lg.add('CHAR', r'char')\n",
        "lg.add('BREAK', r'break')\n",
        "lg.add('CONTINUE', r'continue')\n",
        "lg.add('RETURN', r'return')\n",
        "lg.add('READINT', r'readint')\n",
        "lg.add('WRITEINT', r'writeint')\n",
        "lg.add('IF', r'if')\n",
        "lg.add('WHILE', r'while')\n",
        "lg.add('ID', r'[a-zA-Z][a-zA-Z0-9]*')\n",
        "lg.add('OPEN_PAR', r'\\(')\n",
        "lg.add('CLOSE_PAR', r'\\)')\n",
        "lg.add('OPEN_COL', r'\\[')\n",
        "lg.add('CLOSE_COL', r'\\]')\n",
        "lg.add('VIRG', r'\\,')\n",
        "lg.add('OPEN_CH', r'\\{')\n",
        "lg.add('CLOSE_CH', r'\\}')\n",
        "lg.add('PVIRG', r'\\;')\n",
        "lg.add('COMPEQUALS', r'==')\n",
        "lg.add('COMPMAIOR', r'\\>')\n",
        "lg.add('COMPMENOR', r'\\<')\n",
        "lg.add('EQUALS', r'=')\n",
        "lg.add('INTERROG', r'\\?')\n",
        "lg.add('DOISP', r'\\:')\n",
        "lg.add('DISJ', r'\\|\\|')\n",
        "lg.add('CONJ', r'&&')\n",
        "lg.add('NOT', r'\\!')\n",
        "lg.add('NUMBER', r'\\d+')\n",
        "lg.add('CHARCONST', r'\\'\\S\\'')\n",
        "lg.add('PLUS', r'\\+')\n",
        "lg.add('MINUS', r'-')\n",
        "lg.add('MUL', r'\\*')\n",
        "lg.add('DIV', r'/')\n",
        "lg.add('MOD', r'\\%')\n",
        "lg.add('POWER', r'\\^')\n",
        "\n",
        "lg.ignore('\\s+')\n",
        "\n",
        "lexer = lg.build()"
      ],
      "execution_count": null,
      "outputs": []
    },
    {
      "cell_type": "markdown",
      "metadata": {
        "id": "MAH3Dy3SSEGw"
      },
      "source": [
        "##Analisador Sintático"
      ]
    },
    {
      "cell_type": "code",
      "metadata": {
        "id": "A42tKi6dMQp6"
      },
      "source": [
        "from rply.token import BaseBox\n",
        "\n",
        "class Number(BaseBox):\n",
        "    def __init__(self, value):\n",
        "        self.value = value\n",
        "\n",
        "    def eval(self):\n",
        "        return self.value\n",
        "\n",
        "class BinaryOp(BaseBox):\n",
        "    def __init__(self, left, right):\n",
        "        self.left = left\n",
        "        self.right = right\n",
        "    def print(self):\n",
        "        return print(\"Valor Left: \", self.left.eval(), \"\\nValor Right:  \", self.right.eval())\n",
        "\n",
        "class Add(BinaryOp):\n",
        "    def eval(self):\n",
        "        return self.left.eval() + self.right.eval()\n",
        "    def print(self):\n",
        "        return print(\"Valor Inicial: \", self.left.eval(), \"\\nValor que irá ser somado: \", self.right.eval(), \"\\nValor após soma: \", self.left.eval() + self.right.eval())       \n",
        "\n",
        "class Sub(BinaryOp):\n",
        "    def eval(self):\n",
        "        return self.left.eval() - self.right.eval()\n",
        "    def print(self):\n",
        "        return print(\"Valor Inicial: \", self.left.eval(), \"\\nValor que irá ser subtraido:  \", self.right.eval(),\"\\nValor após subtração: \", self.left.eval() - self.right.eval())\n",
        "\n",
        "class Mul(BinaryOp):\n",
        "    def eval(self):\n",
        "        return self.left.eval() * self.right.eval()\n",
        "    def print(self):\n",
        "        return print(\"Valor Inicial: \", self.left.eval(),\"\\nValor multiplicador:  \", self.right.eval(),\"\\nValor após multiplicação: \", self.left.eval() * self.right.eval())\n",
        "\n",
        "class Div(BinaryOp):\n",
        "    def eval(self):\n",
        "        return self.left.eval() / self.right.eval()\n",
        "    def print(self):\n",
        "        return print(\"Valor Inicial: \", self.left.eval(),\"\\nValor divisor:  \", self.right.eval(), \"\\nValor após divisão: \", self.left.eval() / self.right.eval())\n",
        "\n",
        "class Mod(BinaryOp):\n",
        "    def eval(self):\n",
        "        return self.left.eval() % self.right.eval()\n",
        "    def print(self):\n",
        "        return print(\"Valor Inicial: \", self.left.eval(), \"\\nValor que irá ser subtraido:  \", self.right.eval(), \"\\nValor após subtração: \", self.left.eval() - self.right.eval())\n",
        "\n",
        "class CompEqual(BinaryOp):\n",
        "    def eval(self):\n",
        "        return self.left.eval() == self.right.eval()\n",
        "\n",
        "class CompMenor(BinaryOp):\n",
        "    def eval(self):\n",
        "        return self.left.eval() < self.right.eval()\n",
        "\n",
        "class CompMaior(BinaryOp):\n",
        "    def eval(self):\n",
        "        return self.left.eval() > self.right.eval()\n",
        "\n",
        "class Power(BinaryOp):\n",
        "    def eval(self):\n",
        "      global result\n",
        "      result = self.left.eval() \n",
        "      for x in range (self.right.eval()-1):\n",
        "        result = result * self.left.eval()\n",
        "      return result\n",
        "\n",
        "    def print(self):\n",
        "        print(\"Valor Inicial: \", self.left.eval(),\"\\nGrau de potencia:  \", self.right.eval(),\"\\nValor após pontencialização: \", result)\n",
        "\n",
        "class Attrib(BaseBox):\n",
        "    def __init__(self, id, expression):\n",
        "        self.id = id\n",
        "        self.expression = expression\n",
        "    def print(self):\n",
        "        return print(\"Nome da variavel: \", self.id, \"\\nExpressão restante: \", self.expression)\n",
        "\n",
        "class Factor(BaseBox):\n",
        "  def __init__(self, number):\n",
        "    self.number = number\n",
        "\n",
        "class TypeVar(BaseBox):\n",
        "    def __init__(self, typeVar):\n",
        "        self.typeVar = typeVar\n",
        "\n",
        "    def print(self):\n",
        "        return print(self.typeVar)"
      ],
      "execution_count": null,
      "outputs": []
    },
    {
      "cell_type": "code",
      "metadata": {
        "id": "smGwTDKZmIKI"
      },
      "source": [
        "from rply import ParserGenerator\n",
        "\n",
        "pg = ParserGenerator(\n",
        "    # A list of all token names, accepted by the lexer.\n",
        "    ['NUMBER', 'OPEN_PARENS', 'CLOSE_PARENS',\n",
        "     'PLUS', 'MINUS', 'MUL', 'DIV','ID','EQUALS', 'POWER'\n",
        "    ],\n",
        "    # A list of precedence rules with ascending precedence, to\n",
        "    # disambiguate ambiguous production rules.\n",
        "    precedence=[\n",
        "        ('left', ['PLUS', 'MINUS']),\n",
        "        ('left', ['MUL', 'DIV']), \n",
        "        ('left', ['POWER'])\n",
        "    ]\n",
        ")\n",
        "\n",
        "# regra <atrib>::= ID \"=\" <expression>\n",
        "\n",
        "@pg.production('atrib : ID EQUALS expression')\n",
        "def attrib(p):\n",
        "  return Attrib(p[0].getstr(),p[2])\n",
        "\n",
        "@pg.production('expression : NUMBER')\n",
        "def expression_number(p):\n",
        "    # p is a list of the pieces matched by the right hand side of the\n",
        "    # rule\n",
        "    return Number(int(p[0].getstr()))\n",
        "\n",
        "@pg.production('expression : OPEN_PARENS expression CLOSE_PARENS')\n",
        "def expression_parens(p):\n",
        "    return p[1]\n",
        "\n",
        "@pg.production('expression : expression PLUS expression')\n",
        "@pg.production('expression : expression MINUS expression')\n",
        "@pg.production('expression : expression MUL expression')\n",
        "@pg.production('expression : expression DIV expression')\n",
        "@pg.production('expression : expression POWER expression')\n",
        "def expression_binop(p):\n",
        "    left = p[0]\n",
        "    right = p[2]\n",
        "    if p[1].gettokentype() == 'PLUS':\n",
        "        return Add(left, right)\n",
        "    elif p[1].gettokentype() == 'MINUS':\n",
        "        return Sub(left, right)\n",
        "    elif p[1].gettokentype() == 'MUL':\n",
        "        return Mul(left, right)\n",
        "    elif p[1].gettokentype() == 'DIV':\n",
        "        return Div(left, right)\n",
        "    elif p[1].gettokentype() == 'POWER':\n",
        "        return Power(left, right)\n",
        "      \n",
        "    else:\n",
        "        raise AssertionError('Oops, this should not be possible!')\n",
        "\n",
        "parser = pg.build()"
      ],
      "execution_count": null,
      "outputs": []
    },
    {
      "cell_type": "markdown",
      "metadata": {
        "id": "XlGihlwTmKAd"
      },
      "source": [
        "#Testes"
      ]
    },
    {
      "cell_type": "code",
      "metadata": {
        "id": "nJGBML2MmL-8"
      },
      "source": [
        "arvore=parser.parse(lexer.lex('x=2+4'))\n",
        "print(arvore)\n",
        "print(arvore.id)\n",
        "print(arvore.print())\n",
        "\n",
        "print(arvore.expression.eval())\n",
        "print(arvore.expression.print())"
      ],
      "execution_count": null,
      "outputs": []
    }
  ]
}